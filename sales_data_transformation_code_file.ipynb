{
 "cells": [
  {
   "cell_type": "code",
   "execution_count": 0,
   "metadata": {
    "application/vnd.databricks.v1+cell": {
     "cellMetadata": {
      "byteLimit": 2048000,
      "rowLimit": 10000
     },
     "inputWidgets": {},
     "nuid": "2722f64d-6d2f-4968-934b-e1f2c5895870",
     "showTitle": false,
     "title": ""
    }
   },
   "outputs": [],
   "source": [
    "from pyspark.sql.functions import col\n",
    "from pyspark.sql.types import IntegerType, DoubleType, BooleanType, DateType\n",
    "     "
   ]
  },
  {
   "cell_type": "code",
   "execution_count": 0,
   "metadata": {
    "application/vnd.databricks.v1+cell": {
     "cellMetadata": {
      "byteLimit": 2048000,
      "rowLimit": 10000
     },
     "inputWidgets": {},
     "nuid": "f7f1c7d6-b574-4047-9510-e39df0677e96",
     "showTitle": false,
     "title": ""
    }
   },
   "outputs": [
    {
     "data": {
      "text/plain": [
       "True"
      ]
     },
     "execution_count": 2,
     "metadata": {},
     "output_type": "execute_result"
    }
   ],
   "source": [
    "configs = {\"fs.azure.account.auth.type\": \"OAuth\",\n",
    "\"fs.azure.account.oauth.provider.type\": \"org.apache.hadoop.fs.azurebfs.oauth2.ClientCredsTokenProvider\",\n",
    "\"fs.azure.account.oauth2.client.id\": \"place_your_id\",\n",
    "\"fs.azure.account.oauth2.client.secret\": 'place_your_id',\n",
    "\"fs.azure.account.oauth2.client.endpoint\": \"https://login.microsoftonline.com/place_your_id/oauth2/token\"}\n",
    "\n",
    "\n",
    "dbutils.fs.mount(\n",
    "source = \"abfss://customer-sales-data@customersalesdatastorag.dfs.core.windows.net\", # contrainer@storageaccountname\n",
    "mount_point = \"/mnt/customersales\",\n",
    "extra_configs = configs)"
   ]
  },
  {
   "cell_type": "code",
   "execution_count": 0,
   "metadata": {
    "application/vnd.databricks.v1+cell": {
     "cellMetadata": {
      "byteLimit": 2048000,
      "rowLimit": 10000
     },
     "inputWidgets": {},
     "nuid": "6bd1508b-f396-40e6-8a4c-76317befc210",
     "showTitle": false,
     "title": ""
    }
   },
   "outputs": [
    {
     "data": {
      "text/html": [
       "<style scoped>\n",
       "  .table-result-container {\n",
       "    max-height: 300px;\n",
       "    overflow: auto;\n",
       "  }\n",
       "  table, th, td {\n",
       "    border: 1px solid black;\n",
       "    border-collapse: collapse;\n",
       "  }\n",
       "  th, td {\n",
       "    padding: 5px;\n",
       "  }\n",
       "  th {\n",
       "    text-align: left;\n",
       "  }\n",
       "</style><div class='table-result-container'><table class='table-result'><thead style='background-color: white'><tr><th>path</th><th>name</th><th>size</th><th>modificationTime</th></tr></thead><tbody><tr><td>dbfs:/mnt/customersales/raw-data/</td><td>raw-data/</td><td>0</td><td>1704733258000</td></tr><tr><td>dbfs:/mnt/customersales/transformed-data/</td><td>transformed-data/</td><td>0</td><td>1704733280000</td></tr></tbody></table></div>"
      ]
     },
     "metadata": {
      "application/vnd.databricks.v1+output": {
       "addedWidgets": {},
       "aggData": [],
       "aggError": "",
       "aggOverflow": false,
       "aggSchema": [],
       "aggSeriesLimitReached": false,
       "aggType": "",
       "arguments": {},
       "columnCustomDisplayInfos": {},
       "data": [
        [
         "dbfs:/mnt/customersales/raw-data/",
         "raw-data/",
         0,
         1704733258000
        ],
        [
         "dbfs:/mnt/customersales/transformed-data/",
         "transformed-data/",
         0,
         1704733280000
        ]
       ],
       "datasetInfos": [],
       "dbfsResultPath": null,
       "isJsonSchema": true,
       "metadata": {
        "isDbfsCommandResult": false
       },
       "overflow": false,
       "plotOptions": {
        "customPlotOptions": {},
        "displayType": "table",
        "pivotAggregation": null,
        "pivotColumns": null,
        "xColumns": null,
        "yColumns": null
       },
       "removedWidgets": [],
       "schema": [
        {
         "metadata": "{}",
         "name": "path",
         "type": "\"string\""
        },
        {
         "metadata": "{}",
         "name": "name",
         "type": "\"string\""
        },
        {
         "metadata": "{}",
         "name": "size",
         "type": "\"long\""
        },
        {
         "metadata": "{}",
         "name": "modificationTime",
         "type": "\"long\""
        }
       ],
       "type": "table"
      }
     },
     "output_type": "display_data"
    }
   ],
   "source": [
    "%fs\n",
    "ls \"/mnt/customersales\""
   ]
  },
  {
   "cell_type": "code",
   "execution_count": 0,
   "metadata": {
    "application/vnd.databricks.v1+cell": {
     "cellMetadata": {
      "byteLimit": 2048000,
      "rowLimit": 10000
     },
     "inputWidgets": {},
     "nuid": "3191c181-9e63-47ca-a42f-6a7829f1f54c",
     "showTitle": false,
     "title": ""
    }
   },
   "outputs": [],
   "source": [
    "sales_data = spark.read.format(\"csv\").load(\"/mnt/customersales/raw-data/superstore_sales.csv\")"
   ]
  },
  {
   "cell_type": "code",
   "execution_count": 0,
   "metadata": {
    "application/vnd.databricks.v1+cell": {
     "cellMetadata": {
      "byteLimit": 2048000,
      "rowLimit": 10000
     },
     "inputWidgets": {},
     "nuid": "aae3f23d-7d07-41f9-92ab-5ea4b54bb1a0",
     "showTitle": false,
     "title": ""
    }
   },
   "outputs": [
    {
     "name": "stdout",
     "output_type": "stream",
     "text": [
      "+---------------+----------+-----------------+----------------+--------------+----------------+---------------+------------+--------------------+-----+--------+---------+----+\n",
      "|            _c0|       _c1|              _c2|             _c3|           _c4|             _c5|            _c6|         _c7|                 _c8|  _c9|    _c10|     _c11|_c12|\n",
      "+---------------+----------+-----------------+----------------+--------------+----------------+---------------+------------+--------------------+-----+--------+---------+----+\n",
      "|       order_id|order_date|    customer_name|           state|       country|      product_id|       category|sub_category|        product_name|sales|quantity|   profit|year|\n",
      "|   AG-2011-2040|  1/1/2011|  Toby Braunhardt|     Constantine|       Algeria|OFF-TEN-10000025|Office Supplies|     Storage| Tenex Lockers, Blue|  408|       2|   106.14|2011|\n",
      "|  IN-2011-47883|  1/1/2011|      Joseph Holt| New South Wales|     Australia| OFF-SU-10000618|Office Supplies|    Supplies|Acme Trimmer, Hig...|  120|       3|   36.036|2011|\n",
      "|   HU-2011-1220|  1/1/2011|    Annie Thurman|        Budapest|       Hungary|OFF-TEN-10001585|Office Supplies|     Storage|Tenex Box, Single...|   66|       4|    29.64|2011|\n",
      "|IT-2011-3647632|  1/1/2011|     Eugene Moren|       Stockholm|        Sweden| OFF-PA-10001492|Office Supplies|       Paper|Enermax Note Card...|   45|       3|   26.055|2011|\n",
      "|  IN-2011-47883|  1/1/2011|      Joseph Holt| New South Wales|     Australia| FUR-FU-10003447|      Furniture| Furnishings|Eldon Light Bulb,...|  114|       5|    37.77|2011|\n",
      "|  IN-2011-47883|  1/1/2011|      Joseph Holt| New South Wales|     Australia| OFF-PA-10001968|Office Supplies|       Paper|Eaton Computer Pr...|   55|       2|   15.342|2011|\n",
      "|   CA-2011-1510|  1/2/2011|  Magdelene Morse|         Ontario|        Canada|TEC-OKI-10002750|     Technology|    Machines|Okidata Inkjet, W...|  314|       1|     3.12|2011|\n",
      "|  IN-2011-79397|  1/3/2011|      Kean Nguyen| New South Wales|     Australia| OFF-AP-10000304|Office Supplies|  Appliances|Hoover Microwave,...|  276|       1|  110.412|2011|\n",
      "|  ID-2011-80230|  1/3/2011|     Ken Lonsdale|        Auckland|   New Zealand| TEC-CO-10004182|     Technology|     Copiers|Hewlett Wireless ...|  912|       4|  319.464|2011|\n",
      "|   IZ-2011-4680|  1/3/2011| Lindsay Williams|          Ninawa|          Iraq|FUR-NOV-10002791|      Furniture|      Chairs|Novimex Swivel St...|  667|       4|   253.32|2011|\n",
      "|  IN-2011-65159|  1/3/2011|     Larry Blacks|National Capital|   Philippines| OFF-ST-10003020|Office Supplies|     Storage|Tenex Lockers, In...|  338|       3|-122.8005|2011|\n",
      "|  IN-2011-65159|  1/3/2011|     Larry Blacks|National Capital|   Philippines| FUR-TA-10002797|      Furniture|      Tables|Chromcraft Round ...|  211|       1| -70.3995|2011|\n",
      "|ES-2011-4869686|  1/3/2011|Dorothy Dickinson|         England|United Kingdom| FUR-BO-10000728|      Furniture|   Bookcases|Dania Corner Shel...|  854|       7|   290.43|2011|\n",
      "|  IN-2011-33652|  1/3/2011|    Dennis Pardue|         Sarawak|      Malaysia| TEC-CO-10000594|     Technology|     Copiers|Hewlett Fax and C...|  193|       1|    50.13|2011|\n",
      "|  ID-2011-80230|  1/3/2011|     Ken Lonsdale|        Auckland|   New Zealand| FUR-CH-10000214|      Furniture|      Chairs|Hon Rocking Chair...|  159|       2|  -95.676|2011|\n",
      "| MX-2011-160234|  1/3/2011| Stewart Visinsky|       Guatemala|     Guatemala| TEC-PH-10002647|     Technology|      Phones| Nokia Headset, VoIP|  195|       4|    44.88|2011|\n",
      "|    IR-2011-770|  1/3/2011|    Jas O'Carroll|            Yazd|          Iran|OFF-BRE-10003081|Office Supplies|  Appliances|Breville Coffee G...|  123|       2|     42.9|2011|\n",
      "|  ID-2011-80230|  1/3/2011|     Ken Lonsdale|        Auckland|   New Zealand| TEC-AC-10002881|     Technology| Accessories|Belkin Numeric Ke...|   69|       2|     3.42|2011|\n",
      "|  ID-2011-80230|  1/3/2011|     Ken Lonsdale|        Auckland|   New Zealand| FUR-CH-10000666|      Furniture|      Chairs|SAFCO Chairmat, B...|   69|       2|  -26.412|2011|\n",
      "+---------------+----------+-----------------+----------------+--------------+----------------+---------------+------------+--------------------+-----+--------+---------+----+\n",
      "only showing top 20 rows\n",
      "\n"
     ]
    }
   ],
   "source": [
    "sales_data.show()"
   ]
  },
  {
   "cell_type": "code",
   "execution_count": 0,
   "metadata": {
    "application/vnd.databricks.v1+cell": {
     "cellMetadata": {
      "byteLimit": 2048000,
      "rowLimit": 10000
     },
     "inputWidgets": {},
     "nuid": "d7285e7d-731a-4038-847d-677330231b31",
     "showTitle": false,
     "title": ""
    }
   },
   "outputs": [],
   "source": [
    "sales_data = spark.read.format(\"csv\").option(\"header\",\"true\").load(\"/mnt/customersales/raw-data/superstore_sales.csv\")"
   ]
  },
  {
   "cell_type": "code",
   "execution_count": 0,
   "metadata": {
    "application/vnd.databricks.v1+cell": {
     "cellMetadata": {
      "byteLimit": 2048000,
      "rowLimit": 10000
     },
     "inputWidgets": {},
     "nuid": "c75fe855-5e88-47fb-a8b5-757d4020f6b5",
     "showTitle": false,
     "title": ""
    }
   },
   "outputs": [
    {
     "name": "stdout",
     "output_type": "stream",
     "text": [
      "+---------------+----------+-----------------+-----------------+--------------+----------------+---------------+------------+--------------------+-----+--------+---------+----+\n",
      "|       order_id|order_date|    customer_name|            state|       country|      product_id|       category|sub_category|        product_name|sales|quantity|   profit|year|\n",
      "+---------------+----------+-----------------+-----------------+--------------+----------------+---------------+------------+--------------------+-----+--------+---------+----+\n",
      "|   AG-2011-2040|  1/1/2011|  Toby Braunhardt|      Constantine|       Algeria|OFF-TEN-10000025|Office Supplies|     Storage| Tenex Lockers, Blue|  408|       2|   106.14|2011|\n",
      "|  IN-2011-47883|  1/1/2011|      Joseph Holt|  New South Wales|     Australia| OFF-SU-10000618|Office Supplies|    Supplies|Acme Trimmer, Hig...|  120|       3|   36.036|2011|\n",
      "|   HU-2011-1220|  1/1/2011|    Annie Thurman|         Budapest|       Hungary|OFF-TEN-10001585|Office Supplies|     Storage|Tenex Box, Single...|   66|       4|    29.64|2011|\n",
      "|IT-2011-3647632|  1/1/2011|     Eugene Moren|        Stockholm|        Sweden| OFF-PA-10001492|Office Supplies|       Paper|Enermax Note Card...|   45|       3|   26.055|2011|\n",
      "|  IN-2011-47883|  1/1/2011|      Joseph Holt|  New South Wales|     Australia| FUR-FU-10003447|      Furniture| Furnishings|Eldon Light Bulb,...|  114|       5|    37.77|2011|\n",
      "|  IN-2011-47883|  1/1/2011|      Joseph Holt|  New South Wales|     Australia| OFF-PA-10001968|Office Supplies|       Paper|Eaton Computer Pr...|   55|       2|   15.342|2011|\n",
      "|   CA-2011-1510|  1/2/2011|  Magdelene Morse|          Ontario|        Canada|TEC-OKI-10002750|     Technology|    Machines|Okidata Inkjet, W...|  314|       1|     3.12|2011|\n",
      "|  IN-2011-79397|  1/3/2011|      Kean Nguyen|  New South Wales|     Australia| OFF-AP-10000304|Office Supplies|  Appliances|Hoover Microwave,...|  276|       1|  110.412|2011|\n",
      "|  ID-2011-80230|  1/3/2011|     Ken Lonsdale|         Auckland|   New Zealand| TEC-CO-10004182|     Technology|     Copiers|Hewlett Wireless ...|  912|       4|  319.464|2011|\n",
      "|   IZ-2011-4680|  1/3/2011| Lindsay Williams|           Ninawa|          Iraq|FUR-NOV-10002791|      Furniture|      Chairs|Novimex Swivel St...|  667|       4|   253.32|2011|\n",
      "|  IN-2011-65159|  1/3/2011|     Larry Blacks| National Capital|   Philippines| OFF-ST-10003020|Office Supplies|     Storage|Tenex Lockers, In...|  338|       3|-122.8005|2011|\n",
      "|  IN-2011-65159|  1/3/2011|     Larry Blacks| National Capital|   Philippines| FUR-TA-10002797|      Furniture|      Tables|Chromcraft Round ...|  211|       1| -70.3995|2011|\n",
      "|ES-2011-4869686|  1/3/2011|Dorothy Dickinson|          England|United Kingdom| FUR-BO-10000728|      Furniture|   Bookcases|Dania Corner Shel...|  854|       7|   290.43|2011|\n",
      "|  IN-2011-33652|  1/3/2011|    Dennis Pardue|          Sarawak|      Malaysia| TEC-CO-10000594|     Technology|     Copiers|Hewlett Fax and C...|  193|       1|    50.13|2011|\n",
      "|  ID-2011-80230|  1/3/2011|     Ken Lonsdale|         Auckland|   New Zealand| FUR-CH-10000214|      Furniture|      Chairs|Hon Rocking Chair...|  159|       2|  -95.676|2011|\n",
      "| MX-2011-160234|  1/3/2011| Stewart Visinsky|        Guatemala|     Guatemala| TEC-PH-10002647|     Technology|      Phones| Nokia Headset, VoIP|  195|       4|    44.88|2011|\n",
      "|    IR-2011-770|  1/3/2011|    Jas O'Carroll|             Yazd|          Iran|OFF-BRE-10003081|Office Supplies|  Appliances|Breville Coffee G...|  123|       2|     42.9|2011|\n",
      "|  ID-2011-80230|  1/3/2011|     Ken Lonsdale|         Auckland|   New Zealand| TEC-AC-10002881|     Technology| Accessories|Belkin Numeric Ke...|   69|       2|     3.42|2011|\n",
      "|  ID-2011-80230|  1/3/2011|     Ken Lonsdale|         Auckland|   New Zealand| FUR-CH-10000666|      Furniture|      Chairs|SAFCO Chairmat, B...|   69|       2|  -26.412|2011|\n",
      "|  ID-2011-12596|  1/3/2011|     Chris McAfee|Nakhon Ratchasima|      Thailand| OFF-ST-10002066|Office Supplies|     Storage|Smead File Cart, ...|  135|       2| -45.9018|2011|\n",
      "+---------------+----------+-----------------+-----------------+--------------+----------------+---------------+------------+--------------------+-----+--------+---------+----+\n",
      "only showing top 20 rows\n",
      "\n"
     ]
    }
   ],
   "source": [
    "sales_data.show()"
   ]
  },
  {
   "cell_type": "code",
   "execution_count": 0,
   "metadata": {
    "application/vnd.databricks.v1+cell": {
     "cellMetadata": {
      "byteLimit": 2048000,
      "rowLimit": 10000
     },
     "inputWidgets": {},
     "nuid": "ebfdeea2-1caf-4b7c-bb5f-88bd2754a5cb",
     "showTitle": false,
     "title": ""
    }
   },
   "outputs": [
    {
     "name": "stdout",
     "output_type": "stream",
     "text": [
      "root\n",
      " |-- order_id: string (nullable = true)\n",
      " |-- order_date: string (nullable = true)\n",
      " |-- customer_name: string (nullable = true)\n",
      " |-- state: string (nullable = true)\n",
      " |-- country: string (nullable = true)\n",
      " |-- product_id: string (nullable = true)\n",
      " |-- category: string (nullable = true)\n",
      " |-- sub_category: string (nullable = true)\n",
      " |-- product_name: string (nullable = true)\n",
      " |-- sales: string (nullable = true)\n",
      " |-- quantity: string (nullable = true)\n",
      " |-- profit: string (nullable = true)\n",
      " |-- year: string (nullable = true)\n",
      "\n"
     ]
    }
   ],
   "source": [
    "sales_data.printSchema()"
   ]
  },
  {
   "cell_type": "code",
   "execution_count": 0,
   "metadata": {
    "application/vnd.databricks.v1+cell": {
     "cellMetadata": {
      "byteLimit": 2048000,
      "rowLimit": 10000
     },
     "inputWidgets": {},
     "nuid": "e017fb97-f58d-4da0-8c8e-d77299db74ee",
     "showTitle": false,
     "title": ""
    }
   },
   "outputs": [],
   "source": [
    "sales_data = sales_data.withColumn(\"sales\",col(\"sales\").cast(IntegerType()))\\\n",
    "    .withColumn(\"quantity\",col(\"quantity\").cast(IntegerType()))\\\n",
    "    .withColumn(\"profit\",col(\"profit\").cast(IntegerType()))"
   ]
  },
  {
   "cell_type": "code",
   "execution_count": 0,
   "metadata": {
    "application/vnd.databricks.v1+cell": {
     "cellMetadata": {
      "byteLimit": 2048000,
      "rowLimit": 10000
     },
     "inputWidgets": {},
     "nuid": "123b507d-0159-4322-96f0-f02ccba77030",
     "showTitle": false,
     "title": ""
    }
   },
   "outputs": [
    {
     "name": "stdout",
     "output_type": "stream",
     "text": [
      "root\n",
      " |-- order_id: string (nullable = true)\n",
      " |-- order_date: string (nullable = true)\n",
      " |-- customer_name: string (nullable = true)\n",
      " |-- state: string (nullable = true)\n",
      " |-- country: string (nullable = true)\n",
      " |-- product_id: string (nullable = true)\n",
      " |-- category: string (nullable = true)\n",
      " |-- sub_category: string (nullable = true)\n",
      " |-- product_name: string (nullable = true)\n",
      " |-- sales: integer (nullable = true)\n",
      " |-- quantity: integer (nullable = true)\n",
      " |-- profit: integer (nullable = true)\n",
      " |-- year: string (nullable = true)\n",
      "\n"
     ]
    }
   ],
   "source": [
    "sales_data.printSchema()"
   ]
  },
  {
   "cell_type": "code",
   "execution_count": 0,
   "metadata": {
    "application/vnd.databricks.v1+cell": {
     "cellMetadata": {
      "byteLimit": 2048000,
      "rowLimit": 10000
     },
     "inputWidgets": {},
     "nuid": "fb960867-2dec-4120-993d-34b702d3064e",
     "showTitle": false,
     "title": ""
    }
   },
   "outputs": [
    {
     "name": "stdout",
     "output_type": "stream",
     "text": [
      "+---------------+------------+-----+----+\n",
      "|       category|sub_category|sales|year|\n",
      "+---------------+------------+-----+----+\n",
      "|Office Supplies|     Storage|  999|2012|\n",
      "|     Technology|     Copiers|  999|2011|\n",
      "|Office Supplies|     Storage|  999|2011|\n",
      "|Office Supplies|  Appliances|  999|2014|\n",
      "|     Technology|    Machines|  999|2011|\n",
      "|      Furniture|      Tables|  998|2013|\n",
      "|     Technology|     Copiers|  998|2014|\n",
      "|Office Supplies|  Appliances|  997|2012|\n",
      "|     Technology|     Copiers|  997|2014|\n",
      "|      Furniture|   Bookcases|  996|2014|\n",
      "|      Furniture|      Chairs|  996|2013|\n",
      "|Office Supplies|     Storage|  995|2013|\n",
      "|     Technology| Accessories|  995|2014|\n",
      "|      Furniture|      Tables|  994|2012|\n",
      "|Office Supplies|  Appliances|  994|2013|\n",
      "|Office Supplies|  Appliances|  994|2014|\n",
      "|     Technology|      Phones|  994|2011|\n",
      "|      Furniture|      Chairs|  993|2011|\n",
      "|     Technology|      Phones|  993|2011|\n",
      "|     Technology|     Copiers|  993|2014|\n",
      "+---------------+------------+-----+----+\n",
      "only showing top 20 rows\n",
      "\n"
     ]
    }
   ],
   "source": [
    "# Find the top category with the highest number of sales\n",
    "most_sales = sales_data.orderBy(\"sales\", ascending=False).select(\"category\",\"sub_category\",\"sales\",\"year\").show()"
   ]
  },
  {
   "cell_type": "code",
   "execution_count": 0,
   "metadata": {
    "application/vnd.databricks.v1+cell": {
     "cellMetadata": {
      "byteLimit": 2048000,
      "rowLimit": 10000
     },
     "inputWidgets": {},
     "nuid": "3b5a0a41-0194-4f81-8271-7c5187c3ceff",
     "showTitle": false,
     "title": ""
    }
   },
   "outputs": [
    {
     "name": "stdout",
     "output_type": "stream",
     "text": [
      "+--------------------+-----+----+\n",
      "|             country|sales|year|\n",
      "+--------------------+-----+----+\n",
      "|       United States|  999|2012|\n",
      "|              France|  999|2011|\n",
      "|       United States|  999|2011|\n",
      "|           Guatemala|  999|2014|\n",
      "|       United States|  999|2011|\n",
      "|               India|  998|2013|\n",
      "|              Brazil|  998|2014|\n",
      "|               Kenya|  997|2012|\n",
      "|               China|  997|2014|\n",
      "|      United Kingdom|  996|2014|\n",
      "|           Guatemala|  996|2013|\n",
      "|           Singapore|  995|2013|\n",
      "|              Poland|  995|2014|\n",
      "|      United Kingdom|  994|2012|\n",
      "|              Sweden|  994|2013|\n",
      "|Democratic Republ...|  994|2014|\n",
      "|              France|  994|2011|\n",
      "|       Cote d'Ivoire|  993|2011|\n",
      "|              France|  993|2011|\n",
      "|           Argentina|  993|2014|\n",
      "+--------------------+-----+----+\n",
      "only showing top 20 rows\n",
      "\n"
     ]
    }
   ],
   "source": [
    "# Find the countries with the highest number of sales\n",
    "most_sales = sales_data.orderBy(\"sales\", ascending=False).select(\"country\",\"sales\",\"year\").show()"
   ]
  },
  {
   "cell_type": "code",
   "execution_count": 0,
   "metadata": {
    "application/vnd.databricks.v1+cell": {
     "cellMetadata": {
      "byteLimit": 2048000,
      "rowLimit": 10000
     },
     "inputWidgets": {},
     "nuid": "8ccc89ec-2d10-425f-a99c-25c8510b6cb8",
     "showTitle": false,
     "title": ""
    }
   },
   "outputs": [
    {
     "name": "stdout",
     "output_type": "stream",
     "text": [
      "+--------------------+-----------------+-----+----+\n",
      "|             country|            state|sales|year|\n",
      "+--------------------+-----------------+-----+----+\n",
      "|       United States|            Texas|  999|2012|\n",
      "|              France|         Brittany|  999|2011|\n",
      "|       United States|       California|  999|2011|\n",
      "|           Guatemala|        Guatemala|  999|2014|\n",
      "|       United States|            Texas|  999|2011|\n",
      "|               India|        Karnataka|  998|2013|\n",
      "|              Brazil|        S�o Paulo|  998|2014|\n",
      "|               Kenya|          Nairobi|  997|2012|\n",
      "|               China|        Guangdong|  997|2014|\n",
      "|      United Kingdom|          England|  996|2014|\n",
      "|           Guatemala|        Guatemala|  996|2013|\n",
      "|           Singapore|        Singapore|  995|2013|\n",
      "|              Poland|    Lesser Poland|  995|2014|\n",
      "|      United Kingdom|          England|  994|2012|\n",
      "|              Sweden|        Stockholm|  994|2013|\n",
      "|Democratic Republ...|          Katanga|  994|2014|\n",
      "|              France| Poitou-Charentes|  994|2011|\n",
      "|       Cote d'Ivoire|Vallee Du Bandama|  993|2011|\n",
      "|              France|    Ile-de-France|  993|2011|\n",
      "|           Argentina|     Buenos Aires|  993|2014|\n",
      "+--------------------+-----------------+-----+----+\n",
      "only showing top 20 rows\n",
      "\n"
     ]
    }
   ],
   "source": [
    "# Find the top category with the highest number of sales\n",
    "most_sales = sales_data.orderBy(\"sales\", ascending=False).select(\"country\",\"state\",\"sales\",\"year\").show()"
   ]
  },
  {
   "cell_type": "code",
   "execution_count": 0,
   "metadata": {
    "application/vnd.databricks.v1+cell": {
     "cellMetadata": {
      "byteLimit": 2048000,
      "rowLimit": 10000
     },
     "inputWidgets": {},
     "nuid": "edc9898b-d555-46c4-8fad-2439f9bb9e39",
     "showTitle": false,
     "title": ""
    }
   },
   "outputs": [],
   "source": [
    "sales_data.write.option(\"header\",'true').csv(\"/mnt/customersales/transformed-data/sales_data\")"
   ]
  }
 ],
 "metadata": {
  "application/vnd.databricks.v1+notebook": {
   "dashboards": [],
   "language": "python",
   "notebookMetadata": {
    "mostRecentlyExecutedCommandWithImplicitDF": {
     "commandId": 1523496798450340,
     "dataframes": [
      "_sqldf"
     ]
    },
    "pythonIndentUnit": 4
   },
   "notebookName": "Customer Sales Data Transformation",
   "widgets": {}
  },
  "kernelspec": {
   "display_name": "Python 3 (ipykernel)",
   "language": "python",
   "name": "python3"
  },
  "language_info": {
   "codemirror_mode": {
    "name": "ipython",
    "version": 3
   },
   "file_extension": ".py",
   "mimetype": "text/x-python",
   "name": "python",
   "nbconvert_exporter": "python",
   "pygments_lexer": "ipython3",
   "version": "3.11.4"
  }
 },
 "nbformat": 4,
 "nbformat_minor": 1
}
